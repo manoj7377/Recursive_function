{
 "cells": [
  {
   "cell_type": "code",
   "execution_count": 2,
   "id": "7c13acde",
   "metadata": {},
   "outputs": [
    {
     "name": "stdout",
     "output_type": "stream",
     "text": [
      "The factorial of 8 is 40320\n"
     ]
    }
   ],
   "source": [
    "def factorial(x):\n",
    "    if x == 1 or x == 0:\n",
    "        return 1\n",
    "    else:\n",
    "        return (x * factorial(x-1))\n",
    "num =int(input(\"Enter a factorial number: \"))\n",
    "result = factorial(num)\n",
    "print(\"The factorial of\", num, \"is\", result)\n"
   ]
  }
 ],
 "metadata": {
  "kernelspec": {
   "display_name": "Python 3",
   "language": "python",
   "name": "python3"
  },
  "language_info": {
   "codemirror_mode": {
    "name": "ipython",
    "version": 3
   },
   "file_extension": ".py",
   "mimetype": "text/x-python",
   "name": "python",
   "nbconvert_exporter": "python",
   "pygments_lexer": "ipython3",
   "version": "3.13.5"
  }
 },
 "nbformat": 4,
 "nbformat_minor": 5
}
