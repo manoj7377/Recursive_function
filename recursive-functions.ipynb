{
 "cells": [
  {
   "cell_type": "code",
   "execution_count": 3,
   "id": "7c13acde",
   "metadata": {},
   "outputs": [
    {
     "name": "stdout",
     "output_type": "stream",
     "text": [
      "The factorial of 5 is 120\n"
     ]
    }
   ],
   "source": [
    "# factorial of a number\n",
    "def factorial(x):\n",
    "    if x == 1 or x == 0:\n",
    "        return 1\n",
    "    else:\n",
    "        return (x * factorial(x-1))\n",
    "num =int(input(\"Enter a factorial number: \"))\n",
    "result = factorial(num)\n",
    "print(\"The factorial of\", num, \"is\", result)\n"
   ]
  },
  {
   "cell_type": "code",
   "execution_count": null,
   "id": "47b88072",
   "metadata": {},
   "outputs": [
    {
     "name": "stdout",
     "output_type": "stream",
     "text": [
      "The fibonacci value of 10 is 55\n"
     ]
    }
   ],
   "source": [
    "# Fibonacci series\n",
    "def nth_fibonacci(n):\n",
    "    if n <= 1:\n",
    "        return n\n",
    "    else:\n",
    "        return nth_fibonacci(n - 1) + nth_fibonacci(n - 2)\n",
    "n = int(input(\"Enter a number : \"))\n",
    "result = nth_fibonacci(n)\n",
    "print(\"The fibonacci value of\",n,\"is\",result)\n",
    "\n"
   ]
  },
  {
   "cell_type": "code",
   "execution_count": null,
   "id": "68317827",
   "metadata": {},
   "outputs": [
    {
     "name": "stdout",
     "output_type": "stream",
     "text": [
      "55\n"
     ]
    }
   ],
   "source": [
    "# Sum of n natural numbers\n",
    "def Sum(n):\n",
    "    if n <= 1:\n",
    "        return n\n",
    "    else:\n",
    "        return n + Sum(n - 1)\n",
    "n = int(input(\"Enter a number: \"))\n",
    "print(Sum(n))"
   ]
  },
  {
   "cell_type": "code",
   "execution_count": 8,
   "id": "631deeff",
   "metadata": {},
   "outputs": [
    {
     "name": "stdout",
     "output_type": "stream",
     "text": [
      "32\n"
     ]
    }
   ],
   "source": [
    "# Power of a number\n",
    "def power(x, n):\n",
    "    if n == 0:\n",
    "        return 1  \n",
    "    else:\n",
    "        return x * power(x, n - 1)  \n",
    "x =int(input(\"Enter base value:\"))\n",
    "n =int(input(\"Enter positive power value:\"))\n",
    "result= power(x,n)\n",
    "print(result)"
   ]
  },
  {
   "cell_type": "code",
   "execution_count": 11,
   "id": "899133e9",
   "metadata": {},
   "outputs": [
    {
     "name": "stdout",
     "output_type": "stream",
     "text": [
      "jonam\n"
     ]
    }
   ],
   "source": [
    "# Reverse a string\n",
    "def reverse_string(str):\n",
    "    if len(str) == 0:\n",
    "        return str\n",
    "    return reverse_string(str[1:]) + str[0]\n",
    "str = input(\"Enter a string: \")\n",
    "print(reverse_string(str))"
   ]
  },
  {
   "cell_type": "code",
   "execution_count": 17,
   "id": "63a2a7cc",
   "metadata": {},
   "outputs": [
    {
     "name": "stdout",
     "output_type": "stream",
     "text": [
      "15\n"
     ]
    }
   ],
   "source": [
    "# Sum of digits\n",
    "def sum_of_digit( n ):\n",
    "    if n == 0:\n",
    "        return 0\n",
    "    return (n % 10 + sum_of_digit(int(n / 10)))\n",
    "num = int(input(\"Enter a number : \"))\n",
    "result = sum_of_digit(num)\n",
    "print(result)"
   ]
  },
  {
   "cell_type": "code",
   "execution_count": 18,
   "id": "a9d1621b",
   "metadata": {},
   "outputs": [
    {
     "name": "stdout",
     "output_type": "stream",
     "text": [
      "2\n"
     ]
    }
   ],
   "source": [
    "# count how many times a particular character appears in a string\n",
    "def count_char(s, char):\n",
    "    if s == \"\":\n",
    "        return 0\n",
    "    if s[0] == char:\n",
    "        return 1 + count_char(s[1:], char)\n",
    "    else:\n",
    "        return count_char(s[1:], char)\n",
    "s=input(\"enter a string: \")\n",
    "c=input(\"enter character you want to check: \")\n",
    "result= count_char(s,c)\n",
    "print(result)"
   ]
  },
  {
   "cell_type": "code",
   "execution_count": 19,
   "id": "312c19ff",
   "metadata": {},
   "outputs": [
    {
     "name": "stdout",
     "output_type": "stream",
     "text": [
      "GCD of 12 and 14 is 2\n"
     ]
    }
   ],
   "source": [
    "# Gcd of two numbers\n",
    "def gcd(a, b):\n",
    "    if (a == 0):\n",
    "        return b\n",
    "    if (b == 0):\n",
    "        return a\n",
    "    if (a == b):\n",
    "        return a\n",
    "    if (a > b):\n",
    "        return gcd(a-b, b)\n",
    "    return gcd(a, b-a)\n",
    "a = int(input(\"Enter a number: \"))\n",
    "b = int(input(\"Enter a number: \"))\n",
    "print('GCD of', a, 'and', b, 'is', gcd(a, b))"
   ]
  },
  {
   "cell_type": "code",
   "execution_count": 20,
   "id": "11b8cae7",
   "metadata": {},
   "outputs": [
    {
     "name": "stdout",
     "output_type": "stream",
     "text": [
      "7 is prime\n"
     ]
    }
   ],
   "source": [
    "# Check if given number is prime or not\n",
    "def is_prime(n,i=2):\n",
    "    if n<=1:\n",
    "        return False\n",
    "    if i*i>n:\n",
    "        return True\n",
    "    if n%i == 0:\n",
    "        return False\n",
    "    else:\n",
    "        return is_prime(n,i+1)\n",
    "a = int(input(\"n = \"))\n",
    "if is_prime(a):\n",
    "    print(f\"{a} is prime\")\n",
    "else:\n",
    "    print(f\"{a} is not prime\")"
   ]
  },
  {
   "cell_type": "code",
   "execution_count": 21,
   "id": "c06954dc",
   "metadata": {},
   "outputs": [
    {
     "name": "stdout",
     "output_type": "stream",
     "text": [
      "1 2 3 4 5 6 7 8 9 10 "
     ]
    }
   ],
   "source": [
    "# Print numbers from 1to n\n",
    "def printNos(n):\n",
    "    if n > 0:\n",
    "        printNos(n - 1)\n",
    "        print(n, end=' ')\n",
    "n = int(input(\"Enter number: \"))\n",
    "printNos(n)"
   ]
  },
  {
   "cell_type": "code",
   "execution_count": 1,
   "id": "e182226a",
   "metadata": {},
   "outputs": [
    {
     "name": "stdout",
     "output_type": "stream",
     "text": [
      "5 6 2 3 4 1 "
     ]
    }
   ],
   "source": [
    "# reverse array\n",
    "def reverseArray(arr):\n",
    "    n = len(arr)\n",
    "    temp = [0] * n\n",
    "    for i in range(n):\n",
    "        temp[i] = arr[n - i - 1]\n",
    "    for i in range(n):\n",
    "        arr[i] = temp[i]\n",
    "arr = [1, 4, 3, 2, 6, 5]\n",
    "reverseArray(arr)\n",
    "for i in range(len(arr)):\n",
    "        print(arr[i], end=\" \")"
   ]
  },
  {
   "cell_type": "code",
   "execution_count": 2,
   "id": "37c0181e",
   "metadata": {},
   "outputs": [
    {
     "name": "stdout",
     "output_type": "stream",
     "text": [
      "1\n"
     ]
    }
   ],
   "source": [
    "# Find Minimum number from Array\n",
    "def findMinRec(A, n):\n",
    "    if (n == 1):\n",
    "        return A[0]\n",
    "    return min(A[n - 1], findMinRec(A, n - 1))\n",
    "A = [1, 4, 45, 6,  10, 2]\n",
    "n = len(A)\n",
    "print(findMinRec(A, n))"
   ]
  },
  {
   "cell_type": "code",
   "execution_count": 3,
   "id": "499a20a8",
   "metadata": {},
   "outputs": [
    {
     "name": "stdout",
     "output_type": "stream",
     "text": [
      "45\n"
     ]
    }
   ],
   "source": [
    "# Find Maximum number in Array\n",
    "def findMaxRec(A, n):\n",
    "    if (n == 1):\n",
    "        return A[0]\n",
    "    return max(A[n - 1], findMaxRec(A, n - 1))\n",
    "A = [1, 4, 45, 6, -50, 10, 2]\n",
    "n = len(A)\n",
    "print(findMaxRec(A, n))"
   ]
  },
  {
   "cell_type": "code",
   "execution_count": 4,
   "id": "a02dbcdd",
   "metadata": {},
   "outputs": [
    {
     "name": "stdout",
     "output_type": "stream",
     "text": [
      "10\n"
     ]
    }
   ],
   "source": [
    "# Length of a string\n",
    "def recLen(str):\n",
    "    if str == \"\":\n",
    "        return 0\n",
    "    else:\n",
    "        return 1 + recLen(str[1:])\n",
    "str = \"ManojKumar\"\n",
    "print(recLen(str))"
   ]
  },
  {
   "cell_type": "code",
   "execution_count": 5,
   "id": "47b3b88f",
   "metadata": {},
   "outputs": [
    {
     "name": "stdout",
     "output_type": "stream",
     "text": [
      "1010\n"
     ]
    }
   ],
   "source": [
    "# Convert decimal to binary\n",
    "def converttobinary(n):\n",
    "   if n > 1:\n",
    "       converttobinary(n//2)\n",
    "   print(n % 2,end = '')\n",
    "dec = int(input(\"Enter a decimal number: \"))\n",
    "result= converttobinary(dec)\n",
    "print()\n"
   ]
  },
  {
   "cell_type": "code",
   "execution_count": 6,
   "id": "7b1d783d",
   "metadata": {},
   "outputs": [
    {
     "name": "stdout",
     "output_type": "stream",
     "text": [
      "21\n"
     ]
    }
   ],
   "source": [
    "# Find the n-th triangular number\n",
    "def triangularnumber(n):\n",
    "    if n == 1:\n",
    "        return 1\n",
    "    else:\n",
    "        return n + triangularnumber(n - 1)\n",
    "n=int(input(\"n = \"))\n",
    "result= triangularnumber(n)\n",
    "print(result)"
   ]
  },
  {
   "cell_type": "code",
   "execution_count": 7,
   "id": "75fe7701",
   "metadata": {},
   "outputs": [
    {
     "name": "stdout",
     "output_type": "stream",
     "text": [
      "Yes\n"
     ]
    }
   ],
   "source": [
    "# Check given string is palindrome or not\n",
    "def isPalindromeUtil(s, left, right):\n",
    "    if left >= right:\n",
    "        return True\n",
    "    if s[left] != s[right]:\n",
    "        return False\n",
    "    return isPalindromeUtil(s, left + 1, right - 1)\n",
    "def isPalindrome(s):\n",
    "    left = 0\n",
    "    right = len(s) - 1\n",
    "    return isPalindromeUtil(s, left, right)\n",
    "s = input(\"Enter a string: \")\n",
    "if isPalindrome(s):\n",
    "        print(\"Yes\")\n",
    "else:\n",
    "        print(\"No\")"
   ]
  },
  {
   "cell_type": "code",
   "execution_count": 8,
   "id": "c0876465",
   "metadata": {},
   "outputs": [
    {
     "name": "stdout",
     "output_type": "stream",
     "text": [
      "16\n"
     ]
    }
   ],
   "source": [
    "# Calculate the nth power of 2\n",
    "def poweroftwo(n):\n",
    "    if n == 0:\n",
    "        return 1\n",
    "    else:\n",
    "        return 2 * poweroftwo(n - 1)\n",
    "n=int(input(\"Enter power value: \"))\n",
    "result= poweroftwo(n)\n",
    "print(result)\n"
   ]
  },
  {
   "cell_type": "code",
   "execution_count": 9,
   "id": "3bc612d2",
   "metadata": {},
   "outputs": [
    {
     "name": "stdout",
     "output_type": "stream",
     "text": [
      "15\n"
     ]
    }
   ],
   "source": [
    "# Sum of array elements\n",
    "def arraysum(arr):\n",
    "    if not arr:\n",
    "        return 0\n",
    "    else:\n",
    "        return arr[0] + arraysum(arr[1:])\n",
    "array = [1, 2, 3, 4, 5]\n",
    "result = arraysum(array)\n",
    "print(result)\n"
   ]
  },
  {
   "cell_type": "code",
   "execution_count": 11,
   "id": "0b107b46",
   "metadata": {},
   "outputs": [
    {
     "name": "stdout",
     "output_type": "stream",
     "text": [
      "5\n"
     ]
    }
   ],
   "source": [
    "# find the n-th largest element in an array\n",
    "def find_nth_largest(arr, n):\n",
    "    if not arr or n <= 0 or n > len(arr):\n",
    "        return None\n",
    "    if len(arr) == 1:\n",
    "        return arr[0]\n",
    "    pivot = arr[0]\n",
    "    lesser = [x for x in arr[1:] if x < pivot]\n",
    "    greater = [x for x in arr[1:] if x >= pivot]\n",
    "    if len(greater) == n - 1:\n",
    "        return pivot\n",
    "    elif len(greater) >= n:\n",
    "        return find_nth_largest(greater, n)\n",
    "    else:\n",
    "        return find_nth_largest(lesser, n - len(greater) - 1)\n",
    "arr = [3, 1, 4, 1, 5, 9, 2, 6]\n",
    "n = 3\n",
    "nth_largest = find_nth_largest(arr, n)\n",
    "print(nth_largest) \n"
   ]
  }
 ],
 "metadata": {
  "kernelspec": {
   "display_name": "Python 3",
   "language": "python",
   "name": "python3"
  },
  "language_info": {
   "codemirror_mode": {
    "name": "ipython",
    "version": 3
   },
   "file_extension": ".py",
   "mimetype": "text/x-python",
   "name": "python",
   "nbconvert_exporter": "python",
   "pygments_lexer": "ipython3",
   "version": "3.13.5"
  }
 },
 "nbformat": 4,
 "nbformat_minor": 5
}
