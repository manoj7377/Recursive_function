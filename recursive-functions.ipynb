{
 "cells": [
  {
   "cell_type": "code",
   "execution_count": 3,
   "id": "7c13acde",
   "metadata": {},
   "outputs": [
    {
     "name": "stdout",
     "output_type": "stream",
     "text": [
      "The factorial of 5 is 120\n"
     ]
    }
   ],
   "source": [
    "# factorial of a number\n",
    "def factorial(x):\n",
    "    if x == 1 or x == 0:\n",
    "        return 1\n",
    "    else:\n",
    "        return (x * factorial(x-1))\n",
    "num =int(input(\"Enter a factorial number: \"))\n",
    "result = factorial(num)\n",
    "print(\"The factorial of\", num, \"is\", result)\n"
   ]
  },
  {
   "cell_type": "code",
   "execution_count": null,
   "id": "47b88072",
   "metadata": {},
   "outputs": [
    {
     "name": "stdout",
     "output_type": "stream",
     "text": [
      "The fibonacci value of 10 is 55\n"
     ]
    }
   ],
   "source": [
    "# Fibonacci series\n",
    "def nth_fibonacci(n):\n",
    "    if n <= 1:\n",
    "        return n\n",
    "    else:\n",
    "        return nth_fibonacci(n - 1) + nth_fibonacci(n - 2)\n",
    "n = int(input(\"Enter a number : \"))\n",
    "result = nth_fibonacci(n)\n",
    "print(\"The fibonacci value of\",n,\"is\",result)\n",
    "\n"
   ]
  },
  {
   "cell_type": "code",
   "execution_count": null,
   "id": "68317827",
   "metadata": {},
   "outputs": [
    {
     "name": "stdout",
     "output_type": "stream",
     "text": [
      "55\n"
     ]
    }
   ],
   "source": [
    "# Sum of n natural numbers\n",
    "def Sum(n):\n",
    "    if n <= 1:\n",
    "        return n\n",
    "    else:\n",
    "        return n + Sum(n - 1)\n",
    "n = int(input(\"Enter a number: \"))\n",
    "print(Sum(n))"
   ]
  },
  {
   "cell_type": "code",
   "execution_count": 8,
   "id": "631deeff",
   "metadata": {},
   "outputs": [
    {
     "name": "stdout",
     "output_type": "stream",
     "text": [
      "32\n"
     ]
    }
   ],
   "source": [
    "# Power of a number\n",
    "def power(x, n):\n",
    "    if n == 0:\n",
    "        return 1  \n",
    "    else:\n",
    "        return x * power(x, n - 1)  \n",
    "x =int(input(\"Enter base value:\"))\n",
    "n =int(input(\"Enter positive power value:\"))\n",
    "result= power(x,n)\n",
    "print(result)"
   ]
  },
  {
   "cell_type": "code",
   "execution_count": 11,
   "id": "899133e9",
   "metadata": {},
   "outputs": [
    {
     "name": "stdout",
     "output_type": "stream",
     "text": [
      "jonam\n"
     ]
    }
   ],
   "source": [
    "# Reverse a string\n",
    "def reverse_string(str):\n",
    "    if len(str) == 0:\n",
    "        return str\n",
    "    return reverse_string(str[1:]) + str[0]\n",
    "str = input(\"Enter a string: \")\n",
    "print(reverse_string(str))"
   ]
  },
  {
   "cell_type": "code",
   "execution_count": 17,
   "id": "63a2a7cc",
   "metadata": {},
   "outputs": [
    {
     "name": "stdout",
     "output_type": "stream",
     "text": [
      "15\n"
     ]
    }
   ],
   "source": [
    "# Sum of digits\n",
    "def sum_of_digit( n ):\n",
    "    if n == 0:\n",
    "        return 0\n",
    "    return (n % 10 + sum_of_digit(int(n / 10)))\n",
    "num = int(input(\"Enter a number : \"))\n",
    "result = sum_of_digit(num)\n",
    "print(result)"
   ]
  },
  {
   "cell_type": "code",
   "execution_count": 18,
   "id": "a9d1621b",
   "metadata": {},
   "outputs": [
    {
     "name": "stdout",
     "output_type": "stream",
     "text": [
      "2\n"
     ]
    }
   ],
   "source": [
    "# count how many times a particular character appears in a string\n",
    "def count_char(s, char):\n",
    "    if s == \"\":\n",
    "        return 0\n",
    "    if s[0] == char:\n",
    "        return 1 + count_char(s[1:], char)\n",
    "    else:\n",
    "        return count_char(s[1:], char)\n",
    "s=input(\"enter a string: \")\n",
    "c=input(\"enter character you want to check: \")\n",
    "result= count_char(s,c)\n",
    "print(result)"
   ]
  },
  {
   "cell_type": "code",
   "execution_count": 19,
   "id": "312c19ff",
   "metadata": {},
   "outputs": [
    {
     "name": "stdout",
     "output_type": "stream",
     "text": [
      "GCD of 12 and 14 is 2\n"
     ]
    }
   ],
   "source": [
    "# Gcd of two numbers\n",
    "def gcd(a, b):\n",
    "    if (a == 0):\n",
    "        return b\n",
    "    if (b == 0):\n",
    "        return a\n",
    "    if (a == b):\n",
    "        return a\n",
    "    if (a > b):\n",
    "        return gcd(a-b, b)\n",
    "    return gcd(a, b-a)\n",
    "a = int(input(\"Enter a number: \"))\n",
    "b = int(input(\"Enter a number: \"))\n",
    "print('GCD of', a, 'and', b, 'is', gcd(a, b))"
   ]
  },
  {
   "cell_type": "code",
   "execution_count": 20,
   "id": "11b8cae7",
   "metadata": {},
   "outputs": [
    {
     "name": "stdout",
     "output_type": "stream",
     "text": [
      "7 is prime\n"
     ]
    }
   ],
   "source": [
    "# Check if given number is prime or not\n",
    "def is_prime(n,i=2):\n",
    "    if n<=1:\n",
    "        return False\n",
    "    if i*i>n:\n",
    "        return True\n",
    "    if n%i == 0:\n",
    "        return False\n",
    "    else:\n",
    "        return is_prime(n,i+1)\n",
    "a = int(input(\"n = \"))\n",
    "if is_prime(a):\n",
    "    print(f\"{a} is prime\")\n",
    "else:\n",
    "    print(f\"{a} is not prime\")"
   ]
  },
  {
   "cell_type": "code",
   "execution_count": 21,
   "id": "c06954dc",
   "metadata": {},
   "outputs": [
    {
     "name": "stdout",
     "output_type": "stream",
     "text": [
      "1 2 3 4 5 6 7 8 9 10 "
     ]
    }
   ],
   "source": [
    "# Print numbers from 1to n\n",
    "def printNos(n):\n",
    "    if n > 0:\n",
    "        printNos(n - 1)\n",
    "        print(n, end=' ')\n",
    "n = int(input(\"Enter number: \"))\n",
    "printNos(n)"
   ]
  }
 ],
 "metadata": {
  "kernelspec": {
   "display_name": "Python 3",
   "language": "python",
   "name": "python3"
  },
  "language_info": {
   "codemirror_mode": {
    "name": "ipython",
    "version": 3
   },
   "file_extension": ".py",
   "mimetype": "text/x-python",
   "name": "python",
   "nbconvert_exporter": "python",
   "pygments_lexer": "ipython3",
   "version": "3.13.5"
  }
 },
 "nbformat": 4,
 "nbformat_minor": 5
}
